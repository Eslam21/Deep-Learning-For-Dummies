{
 "cells": [
  {
   "cell_type": "markdown",
   "metadata": {},
   "source": [
    "### Solving A system of Linear Equations \n",
    "\n",
    "> In mathematics, a system of linear equations (or linear system) is a collection of two or more linear equations involving the same set of variables.\n",
    "\n",
    "The ultimate goal of solving a system of linear equations is to find the values of the unknown variables.   \n",
    "Here is an example of a system of linear equations with two unknown variables, `x` and `y`:\n",
    "\n",
    "**Equation 1:**\n",
    "\n",
    "$$\n",
    "4x + 3y = 20\\\\\n",
    "-5x + 9y = 26 \n",
    "$$\n",
    "\n",
    "In the matrix solution, the system of linear equations to be solved is represented in the form of matrix AX = B.   \n",
    "For instance, we can represent Equation 1 in the form of a matrix as follows:\n",
    "```\n",
    "A = [[ 4   3]\n",
    "     [-5   9]]\n",
    "\n",
    "X = [[x]\n",
    "     [y]]\n",
    "\n",
    "B = [[20]\n",
    "     [26]]\n",
    "```     \n",
    "To find the value of x and y variables in Equation 1, we need to find the values in the matrix X.   \n",
    " To do so, we can take the dot product of the inverse of matrix A, and the matrix B as shown below:  \n",
    "``\n",
    "X = inverse(A).B\n",
    "``"
   ]
  },
  {
   "cell_type": "code",
   "execution_count": 5,
   "metadata": {},
   "outputs": [
    {
     "name": "stdout",
     "output_type": "stream",
     "text": [
      "[2. 4.]\n"
     ]
    }
   ],
   "source": [
    "import numpy as np\n",
    "\n",
    "m_list = [[4, 3], [-5, 9]]\n",
    "A = np.array(m_list)\n",
    "# To find the inverse of a matrix, the matrix is passed to the linalg.inv() method of the Numpy module\n",
    "inv_A = np.linalg.inv(A)\n",
    "#The next step is to find the dot product between the inverse of matrix A, and the matrix B.\n",
    "#It is important to mention that matrix dot product is only possible between the matrices \n",
    "#if the inner dimensions of the matrices are equal i.e. the number of columns of the left matrix must match the number of rows in the right matrix.\n",
    "B = np.array([20, 26])\n",
    "X = inv_A.dot(B)\n",
    "\n",
    "print(X)"
   ]
  },
  {
   "cell_type": "markdown",
   "metadata": {},
   "source": [
    "Here, 2 and 4 are the respective values for the unknowns x and y in Equation 1.  \n",
    "To verify, if you plug `2` in place of the unknown x and `4` in the place of the unknown y in equation `4x + 3y`, you will see that the result will be `20`.\n",
    "\n",
    "**Equation 2:**\n",
    "$$\n",
    "4x + 3y + 2z = 25 \\\\\n",
    "-2x + 2y + 3z = -10 \\\\\n",
    "3x -5y + 2z = -4\n",
    "$$\n",
    "**Using the solve() Method**\n",
    "\n",
    "In the previous two examples, we used linalg.inv() and linalg.dot() methods to find the solution of system of equations.  \n",
    "However, the Numpy library contains the linalg.solve() method, which can be used to directly find the solution of a system of linear equations:"
   ]
  },
  {
   "cell_type": "code",
   "execution_count": 6,
   "metadata": {},
   "outputs": [
    {
     "name": "stdout",
     "output_type": "stream",
     "text": [
      "[ 5.  3. -2.]\n"
     ]
    }
   ],
   "source": [
    "A = np.array([[4, 3, 2], [-2, 2, 3], [3, -5, 2]])\n",
    "B = np.array([25, -10, -4])\n",
    "X2 = np.linalg.solve(A,B)\n",
    "\n",
    "print(X2)"
   ]
  },
  {
   "cell_type": "markdown",
   "metadata": {},
   "source": [
    "A Real-World Example\n",
    "Let's see how a system of linear equation can be used to solve real-world problems.\n",
    "\n",
    "Suppose, a fruit-seller sold <font color=\"red\"> 20 mangoes</font> and <font color=\"red\"> 10 oranges</font> in one day for a total of <u>**$350**</u>.  \n",
    "The next day he sold <font color=\"cyan\"> 17 mangoes</font> and <font color=\"cyan\"> 22 oranges</font> for <u>**$500**</u>.  \n",
    "If the prices of the fruits remained unchanged on both the days, what was the price of one mango and one orange?\n",
    "<br>\n",
    "<br>\n",
    "<br>\n",
    "<br>\n",
    "This problem can be easily solved with a system of two linear equations.\n",
    "\n",
    "Let's say the price of one mango is x and the price of one orange is y. The above problem can be converted like this:\n",
    "$$\n",
    "20x + 10y = 350\\\\\n",
    "17x + 22y = 500\n",
    "$$"
   ]
  },
  {
   "cell_type": "code",
   "execution_count": 7,
   "metadata": {},
   "outputs": [
    {
     "name": "stderr",
     "output_type": "stream",
     "text": [
      "C:\\Users\\eslam\\AppData\\Local\\Temp\\ipykernel_15484\\473196425.py:5: UserWarning: color is redundantly defined by the 'color' keyword argument and the fmt string \"-r\" (-> color='r'). The keyword argument will take precedence.\n",
      "  plt.plot(x, y, '-r', label='y =(500/22)-(17/22)*x',color='purple')\n",
      "C:\\Users\\eslam\\AppData\\Local\\Temp\\ipykernel_15484\\473196425.py:7: UserWarning: color is redundantly defined by the 'color' keyword argument and the fmt string \"-r\" (-> color='r'). The keyword argument will take precedence.\n",
      "  plt.plot(x, y, '-r', label='y =35-2x',color='blue')\n"
     ]
    },
    {
     "data": {
      "image/png": "[encoded data removed]",
      "text/plain": [
       "<Figure size 432x288 with 1 Axes>"
      ]
     },
     "metadata": {
      "needs_background": "light"
     },
     "output_type": "display_data"
    }
   ],
   "source": [
    "import matplotlib.pyplot as plt\n",
    "x = np.linspace(0,20)\n",
    "\n",
    "y =(500/22)-(17/22)*x\n",
    "plt.plot(x, y, '-r', label='y =(500/22)-(17/22)*x',color='purple')\n",
    "y =35-2*x\n",
    "plt.plot(x, y, '-r', label='y =35-2x',color='blue')\n",
    "plt.xlabel('x', color='#1C2833')\n",
    "plt.ylabel('y', color='#1C2833')\n",
    "\n",
    "plt.legend(loc='upper right')\n",
    "\n",
    "plt.grid();\n",
    "plt.show();"
   ]
  },
  {
   "cell_type": "markdown",
   "metadata": {},
   "source": [
    "### Row Echelon Form\n",
    "A matrix is in Row Echelon form if it has the following properties:\n",
    "\n",
    "Any row consisting entirely of zeros occurs at the bottom of the matrix.\n",
    "For each row that does not contain entirely zeros, the first non-zero entry is 1 (called a leading 1).\n",
    "For two successive (non-zero) rows, the leading 1 in the higher row is further left than the leading one in the lower row.\n",
    "For reduced row echelon form, the leading 1 of every row contains 0 below and above its in that column.\n",
    "\n",
    "Below is an example of row-echelon form: \n",
    "\n",
    "$$\\begin{bmatrix} 1 & 2 & -1  & 4 \\\\ 0 & 1 &  0 & 3 \\\\ 0 & 0 &  1 & 2 \\end{bmatrix}  $$\n",
    "\n",
    "and reduced row-echelon form:\n",
    "\n",
    "$$\\begin{bmatrix} 0 & 1 & 0  & 5 \\\\ 0 & 0 &  1 & 3 \\\\ 0 & 0 &  0 & 0 \\end{bmatrix}$$\n",
    "\n",
    "With the help of sympy.Matrix().rref() method, we can put a matrix into reduced Row echelon form.  \n",
    "Matrix().rref() returns a tuple of two elements.  \n",
    "The first is the reduced row echelon form, and the second is a tuple of indices of the pivot columns."
   ]
  },
  {
   "cell_type": "code",
   "execution_count": 8,
   "metadata": {},
   "outputs": [
    {
     "name": "stdout",
     "output_type": "stream",
     "text": [
      "(Matrix([\n",
      "[1, 0, 0],\n",
      "[0, 0, 1],\n",
      "[0, 0, 0]]), (0, 2))\n",
      "Rank of matrix : 2\n"
     ]
    }
   ],
   "source": [
    "import sympy\n",
    "# find the reduced row echelon form\n",
    "rref=sympy.Matrix([[4,0,1],[2,0,2],[3,0,3]]).rref()\n",
    "print(rref)  \n",
    "# find the rank of matrix\n",
    "print(\"Rank of matrix :\",sympy.Matrix([[4,0,1],[2,0,2],[3,0,3]]).rank())"
   ]
  },
  {
   "cell_type": "code",
   "execution_count": 6,
   "metadata": {},
   "outputs": [
    {
     "data": {
      "text/plain": [
       "(Matrix([\n",
       " [1, 0, 0,    -3],\n",
       " [0, 1, 0, -16/3],\n",
       " [0, 0, 1, -17/3]]),\n",
       " (0, 1, 2))"
      ]
     },
     "execution_count": 6,
     "metadata": {},
     "output_type": "execute_result"
    }
   ],
   "source": [
    "import sympy\n",
    "# find the reduced row echelon form\n",
    "rref=sympy.Matrix([[-4,1,1,1],[1,-2,1,2],[1,1,-2,3]]).rref()\n",
    "rref"
   ]
  },
  {
   "cell_type": "code",
   "execution_count": 11,
   "metadata": {},
   "outputs": [
    {
     "data": {
      "text/plain": [
       "array([-3.        , -5.33333333, -5.66666667])"
      ]
     },
     "execution_count": 11,
     "metadata": {},
     "output_type": "execute_result"
    }
   ],
   "source": [
    "import numpy as np\n",
    "A = np.array([[-4,1,1],[1,-2,1],[1,1,-2]])\n",
    "B = np.array([1, 2, 3])\n",
    "X2 = np.linalg.solve(A,B)\n",
    "X2"
   ]
  }
 ],
 "metadata": {
  "kernelspec": {
   "display_name": "Python 3.10.5 64-bit",
   "language": "python",
   "name": "python3"
  },
  "language_info": {
   "codemirror_mode": {
    "name": "ipython",
    "version": 3
   },
   "file_extension": ".py",
   "mimetype": "text/x-python",
   "name": "python",
   "nbconvert_exporter": "python",
   "pygments_lexer": "ipython3",
   "version": "3.10.5"
  },
  "orig_nbformat": 4,
  "vscode": {
   "interpreter": {
    "hash": "26de051ba29f2982a8de78e945f0abaf191376122a1563185a90213a26c5da77"
   }
  }
 },
 "nbformat": 4,
 "nbformat_minor": 2
}
