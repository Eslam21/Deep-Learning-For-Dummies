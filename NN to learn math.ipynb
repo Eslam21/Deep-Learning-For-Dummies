{
 "cells": [
  {
   "cell_type": "code",
   "execution_count": 255,
   "metadata": {},
   "outputs": [
    {
     "name": "stdout",
     "output_type": "stream",
     "text": [
      "weights are: [[1.89593384]\n",
      " [0.51481737]]\n",
      "6.365954514128189\n"
     ]
    }
   ],
   "source": [
    "from numpy import exp, array, random, dot\n",
    "\n",
    "\n",
    "\n",
    "\n",
    "def train(inputs, outputs, num):\n",
    "    random.seed(42)\n",
    "    # We model a single neuron, with 3 inputs and 1 output and assign random weight.\n",
    "    weights = 2 * random.random((2, 1)) - 1\n",
    "    for iteration in range(num):\n",
    "        output = think(inputs,weights)\n",
    "        error = outputs - output\n",
    "        adjustment = 0.01*dot(inputs.T, error)\n",
    "        weights += adjustment\n",
    "        #print(weights)\n",
    "    return weights\n",
    "def think(inputs,weights):\n",
    "    return (dot(inputs, weights))\n",
    "\n",
    "\n",
    "# The training set\n",
    "inputs = array([[2, 3], [1, 1], [5, 2], [12, 2]])\n",
    "outputs = array([[6, 1, 10, 24]]).T              #(x+y)*2\n",
    "\n",
    "# Training the neural network using the training set.\n",
    "wh=train(inputs, outputs, 10000)\n",
    "print(\"weights are:\",wh)\n",
    "# Ask the neural network the output\n",
    "print(*think(array([2, 5]),wh))"
   ]
  },
  {
   "cell_type": "code",
   "execution_count": 3,
   "metadata": {},
   "outputs": [
    {
     "data": {
      "text/plain": [
       "array([[6, 1],\n",
       "       [1, 2],\n",
       "       [8, 7],\n",
       "       [3, 5]])"
      ]
     },
     "execution_count": 3,
     "metadata": {},
     "output_type": "execute_result"
    }
   ],
   "source": [
    "inputs=array([[random.randint(1,10),random.randint(1,10)] for i in range(4)])\n",
    "outputs=array([[i+j for i, j in inputs]]).T\n",
    "\n",
    "inputs"
   ]
  },
  {
   "cell_type": "code",
   "execution_count": 240,
   "metadata": {},
   "outputs": [],
   "source": [
    "in1=[random.randint(-20,100) for i in range(1000)]\n",
    "in2=[random.randint(-20,100) for i in range(1000)]\n",
    "outs=[(i+j) for i,j in zip(in1,in2)]\n",
    "\n",
    "df=pd.DataFrame(list(zip(in1,in2,outs)), columns=[\"in1\",'in2','outs'])\n",
    "X=df.iloc[:,0:2]\n",
    "y=df.iloc[:,-1]\n"
   ]
  },
  {
   "cell_type": "code",
   "execution_count": 241,
   "metadata": {},
   "outputs": [
    {
     "name": "stdout",
     "output_type": "stream",
     "text": [
      "mean_squared_error :  8.18844357806309e-28\n",
      "mean_absolute_error :  2.2200759749087714e-14\n",
      "r2 socre is  1.0\n"
     ]
    }
   ],
   "source": [
    "\n",
    "# importing modules and packages\n",
    "import pandas as pd\n",
    "import numpy as np\n",
    "import matplotlib.pyplot as plt\n",
    "from sklearn.model_selection import train_test_split\n",
    "from sklearn.linear_model import LinearRegression\n",
    "from sklearn.metrics import mean_squared_error, mean_absolute_error,r2_score\n",
    "from sklearn import preprocessing\n",
    "\n",
    "X_train, X_test, y_train, y_test = train_test_split(\n",
    "    X, y, test_size=0.3, random_state=42)\n",
    "model = LinearRegression()\n",
    "model.fit(X_train,y_train)\n",
    "predictions = model.predict(X_test)\n",
    "# model evaluation\n",
    "print(\n",
    "'mean_squared_error : ', mean_squared_error(y_test, predictions))\n",
    "print(\n",
    "'mean_absolute_error : ', mean_absolute_error(y_test, predictions))\n",
    "score=r2_score(y_test,predictions)\n",
    "print('r2 socre is ',score)"
   ]
  },
  {
   "cell_type": "code",
   "execution_count": 242,
   "metadata": {},
   "outputs": [
    {
     "data": {
      "text/plain": [
       "array([4997.,    6.])"
      ]
     },
     "execution_count": 242,
     "metadata": {},
     "output_type": "execute_result"
    }
   ],
   "source": [
    "tst={'in1':[5000,-4],'in2':[-3,10]}\n",
    "predictions = model.predict(pd.DataFrame(tst))\n",
    "predictions"
   ]
  }
 ],
 "metadata": {
  "kernelspec": {
   "display_name": "Python 3.10.5 64-bit",
   "language": "python",
   "name": "python3"
  },
  "language_info": {
   "codemirror_mode": {
    "name": "ipython",
    "version": 3
   },
   "file_extension": ".py",
   "mimetype": "text/x-python",
   "name": "python",
   "nbconvert_exporter": "python",
   "pygments_lexer": "ipython3",
   "version": "3.10.5"
  },
  "orig_nbformat": 4,
  "vscode": {
   "interpreter": {
    "hash": "26de051ba29f2982a8de78e945f0abaf191376122a1563185a90213a26c5da77"
   }
  }
 },
 "nbformat": 4,
 "nbformat_minor": 2
}
